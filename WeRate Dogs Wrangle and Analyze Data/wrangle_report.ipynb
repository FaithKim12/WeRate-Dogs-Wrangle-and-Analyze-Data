{
 "cells": [
  {
   "cell_type": "markdown",
   "metadata": {},
   "source": [
    "# DATA WRANGLING REPORT"
   ]
  },
  {
   "cell_type": "markdown",
   "metadata": {},
   "source": [
    "## Introduction"
   ]
  },
  {
   "cell_type": "markdown",
   "metadata": {},
   "source": [
    "### For this project, I will be working on the tweet archive of Twitter user @dog_rates, also known as WeRateDogs to create interesting insights and visualizations. WeRateDogs is a Twitter account that rates people's dogs with a humorous comment about the dog. This archive contains basic tweet data (tweet ID, timestamp, text, etc.) for all 5000+ tweets. "
   ]
  },
  {
   "cell_type": "markdown",
   "metadata": {},
   "source": [
    "## 1. Gathering Data"
   ]
  },
  {
   "cell_type": "markdown",
   "metadata": {},
   "source": [
    "### I gathered data from three sources: \n",
    "\n",
    "### a) Downloaded WeRateDogs Twiiter Archive from the link provided by Udacity     https://d17h27t6h515a5.cloudfront.net/topher/2017/August/59a4e958_twitter-archive-enhanced/twitter-archive-enhanced.csv. I then named my table as df_tae\n",
    "\n",
    "### b) Downloaded the tweets prediction file provided by Udacity. https://d17h27t6h515a5.cloudfront.net/topher/2017/August/599fd2ad_image-predictions/image-predictions.tsv I downloaded it prrogramatically using the Requests python library. I named my table df_image_predictions\n",
    "\n",
    "### c) I used the tweet_json.txt file provided by Udacity which has tweets data from Twitter API. I read this tweet_json.txt file line by line into a pandas DataFrame with (at minimum) tweet ID, retweet count, and favorite count. I named my table df_tweets\n"
   ]
  },
  {
   "cell_type": "markdown",
   "metadata": {},
   "source": [
    "## 2. Assesing Data"
   ]
  },
  {
   "cell_type": "markdown",
   "metadata": {},
   "source": [
    "### I applied two ways of assessment in this step: \n",
    "\n",
    "### a) Visual Assessment \n",
    "### When loading the twitter-archive-enhaced.csv file on Excel, I noticed some quality issues. \n",
    "   ### - I noticed some unnecessary columns that needed to be dropped eg, columns related to retweets. We only\n",
    "   ###   original tweets data. \n",
    "   ### - The sources column looks messy and busy, we can barely tell information about it. \n",
    "   \n",
    "### b) Programmatic Assessment\n",
    "### I went further and used .info(), .head(), .value_counts() pandas libraries to spot further issues. \n",
    "  ### - Retweets therefore duplicates\n",
    "  ### - Incorrect datatype for tweet_id column in twitter-archive-enhanced.csv file\n",
    "  ### - Some columns have a mixture of first uppercase and lowercase letters eg columns p1, p2, p3\n",
    "  ### - Incorrect dog names such as 'a', 'an', 'the'\n",
    "  \n",
    "### The tidiness issues I came across are: \n",
    "   ### - The stages of a dog in df_tae (fluffer, puppo, pupper, doggo) should be merged into one column,                               dog_stage\n",
    "   ### -  Merge the tables df_tae and df_tweets as they have common data that is the id column   "
   ]
  },
  {
   "cell_type": "markdown",
   "metadata": {},
   "source": [
    "## 3. Cleaning Data"
   ]
  },
  {
   "cell_type": "markdown",
   "metadata": {},
   "source": [
    "### I cleaned each quality and tidiness issue using programmatic data cleaning process \n",
    "### The following are the steps I used for each issue: \n",
    "   ### - I made a copy of the original data.\n",
    "   ### - I used the use the define-code-test framework \n"
   ]
  },
  {
   "cell_type": "markdown",
   "metadata": {},
   "source": [
    "## 4. Storing Data"
   ]
  },
  {
   "cell_type": "markdown",
   "metadata": {},
   "source": [
    "### After cleaning each issue, I saved the cleaned master DataFrame in a CSV file with the main one named              twitter_archive_master.csv"
   ]
  }
 ],
 "metadata": {
  "kernelspec": {
   "display_name": "Python 3",
   "language": "python",
   "name": "python3"
  },
  "language_info": {
   "codemirror_mode": {
    "name": "ipython",
    "version": 3
   },
   "file_extension": ".py",
   "mimetype": "text/x-python",
   "name": "python",
   "nbconvert_exporter": "python",
   "pygments_lexer": "ipython3",
   "version": "3.6.3"
  }
 },
 "nbformat": 4,
 "nbformat_minor": 2
}
